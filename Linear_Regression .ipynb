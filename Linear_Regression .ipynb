{
 "cells": [
  {
   "cell_type": "code",
   "execution_count": 41,
   "metadata": {},
   "outputs": [
    {
     "name": "stdout",
     "output_type": "stream",
     "text": [
      "   s.no  Item_Weight  Item_Outlet_Sales  no.\n",
      "0     1         10.0                100    2\n",
      "1     2         20.0                200    3\n",
      "2     3         30.0                300    4\n",
      "3     4         40.0                400    5\n",
      "4     5         50.0                500    6\n",
      "5     6         60.0                600    7\n",
      "6     7         70.0                700    7\n",
      "7     8         80.0                800    8\n",
      "8     9          NaN                900    8\n",
      "9    10        100.0                500    9\n"
     ]
    }
   ],
   "source": [
    "%matplotlib inline \n",
    "import numpy as np\n",
    "import matplotlib as plt \n",
    "import pandas as pd \n",
    "\n",
    "\n",
    "from sklearn.linear_model import LinearRegression \n",
    "from sklearn.metrics import mean_squared_error\n",
    "df= pd.read_csv(r\"C:\\Users\\RICHA\\Desktop\\Book1.csv\")\n",
    "#cannot use rank1 matrix in scikit learn \n",
    "print (df)\n"
   ]
  },
  {
   "cell_type": "code",
   "execution_count": 43,
   "metadata": {},
   "outputs": [
    {
     "name": "stdout",
     "output_type": "stream",
     "text": [
      "   s.no  Item_Weight  Item_Outlet_Sales  no.\n",
      "0     1         10.0                100    2\n",
      "1     2         20.0                200    3\n",
      "2     3         30.0                300    4\n",
      "3     4         40.0                400    5\n",
      "4     5         50.0                500    6\n",
      "5     6         60.0                600    7\n",
      "6     7         70.0                700    7\n",
      "7     8         80.0                800    8\n",
      "8     9         80.0                900    8\n",
      "9    10        100.0                500    9\n"
     ]
    }
   ],
   "source": [
    "df['Item_Weight'].bfill(axis= 0, inplace= True )\n",
    "\n",
    "x= df['Item_Weight'].values\n",
    "y= df['Item_Outlet_Sales'].values\n",
    "print(df)"
   ]
  },
  {
   "cell_type": "code",
   "execution_count": 37,
   "metadata": {},
   "outputs": [],
   "source": [
    "m= len(x)\n",
    "x= x.reshape((m,1))\n"
   ]
  },
  {
   "cell_type": "code",
   "execution_count": 38,
   "metadata": {},
   "outputs": [
    {
     "name": "stdout",
     "output_type": "stream",
     "text": [
      "0.7272727272727272\n"
     ]
    }
   ],
   "source": [
    "#ceate model \n",
    "reg= LinearRegression()\n",
    "#filling training data \n",
    "reg= reg.fit(x, y)\n",
    "#y prediction \n",
    "y_pred= reg.predict(x)\n",
    "#calculating R2 Score\n",
    "r2_score= reg.score(x,y)\n",
    "print(r2_score)"
   ]
  },
  {
   "cell_type": "code",
   "execution_count": null,
   "metadata": {},
   "outputs": [],
   "source": []
  }
 ],
 "metadata": {
  "kernelspec": {
   "display_name": "Python 3",
   "language": "python",
   "name": "python3"
  },
  "language_info": {
   "codemirror_mode": {
    "name": "ipython",
    "version": 3
   },
   "file_extension": ".py",
   "mimetype": "text/x-python",
   "name": "python",
   "nbconvert_exporter": "python",
   "pygments_lexer": "ipython3",
   "version": "3.6.5"
  }
 },
 "nbformat": 4,
 "nbformat_minor": 2
}
